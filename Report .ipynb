{
 "cells": [
  {
   "cell_type": "markdown",
   "metadata": {},
   "source": [
    "## Sequential prediction of unbounded stationary time series : algorithms implementation and testing\n",
    "\n",
    "This notebooks contains some implementation of Gyorfi & Ottucsak's paper. \n",
    "We will strictly follow the framework of the paper, i.e. restrict ourselves to the study of unbounded stationnary time series with autoregressive prediction schemes."
   ]
  },
  {
   "cell_type": "code",
   "execution_count": 10,
   "metadata": {
    "collapsed": true
   },
   "outputs": [],
   "source": [
    "import numpy as np\n",
    "import pandas as pd\n",
    "import math"
   ]
  },
  {
   "cell_type": "markdown",
   "metadata": {},
   "source": [
    "__The partitioning function__\n",
    "\n",
    "Is given by the following formula:\n",
    "\n",
    "$$\n",
    "\\hat{E}^{k,ℓ}_n(x^n_1, y^{n−1}_1, z, s) = \\frac{\\sum_{k<t<n : G_l(x^t_{t−k}) = z , F_l(y^{t−1}_{t−k}) = s} y_t}{ |\\{k < t < n : G_l(x^t_{t−k}) = z, F_l(y^{t−1}_{t−k}) = s\\}|}\n",
    "$$"
   ]
  },
  {
   "cell_type": "code",
   "execution_count": 4,
   "metadata": {
    "collapsed": false
   },
   "outputs": [],
   "source": [
    "def partition(X,y,z,s):\n",
    "    return"
   ]
  },
  {
   "cell_type": "markdown",
   "metadata": {},
   "source": [
    "__The trouncation function__\n",
    "\n",
    "Is given by the following formula:\n",
    "\n",
    "$$\n",
    "\\begin{equation}\n",
    "T_n(z) =\n",
    "  \\left\\{\n",
    "    \\begin{split}\n",
    "    n^\\delta \\text{ if }  z>n^\\delta\\\\ \n",
    "    z \\text{ if } |z| < n^\\delta \\\\\n",
    "    - n^\\delta \\text{ if } z<-n^\\delta\n",
    "    \\end{split}\n",
    "  \\right.\n",
    "\\end{equation}\n",
    "$$"
   ]
  },
  {
   "cell_type": "code",
   "execution_count": 23,
   "metadata": {
    "collapsed": true
   },
   "outputs": [],
   "source": [
    "def truncate(n,z,delta):\n",
    "    threshold = n**delta\n",
    "    if z > threshold :\n",
    "        return threshold\n",
    "    if z < -threshold :\n",
    "        return -threshold\n",
    "    if abs(z)<=threshold :\n",
    "        return z"
   ]
  },
  {
   "cell_type": "markdown",
   "metadata": {},
   "source": [
    "__The elementary predictor__\n",
    "\n",
    "is given by the following formula:\n",
    "\n",
    "$$\n",
    "h^{k,l}_n(x^n_1,y^{n-1}_1) = T_n \\left( \\hat{E}^{k,l}_n \\left(x^n_1, y^{n−1}_1, G_l(x^n_{n-k}), F_l(y^{n-1}_{n-k})\\right) \\right)\n",
    "$$"
   ]
  },
  {
   "cell_type": "markdown",
   "metadata": {},
   "source": []
  },
  {
   "cell_type": "code",
   "execution_count": null,
   "metadata": {
    "collapsed": true
   },
   "outputs": [],
   "source": []
  }
 ],
 "metadata": {
  "kernelspec": {
   "display_name": "Python 2",
   "language": "python",
   "name": "python2"
  },
  "language_info": {
   "codemirror_mode": {
    "name": "ipython",
    "version": 2
   },
   "file_extension": ".py",
   "mimetype": "text/x-python",
   "name": "python",
   "nbconvert_exporter": "python",
   "pygments_lexer": "ipython2",
   "version": "2.7.10"
  }
 },
 "nbformat": 4,
 "nbformat_minor": 0
}
